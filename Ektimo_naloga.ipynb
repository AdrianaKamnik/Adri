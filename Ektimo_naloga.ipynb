{
 "cells": [
  {
   "cell_type": "code",
   "execution_count": 24,
   "metadata": {
    "collapsed": false
   },
   "outputs": [],
   "source": [
    "############################## ADRIANA KAMNIK ##############################################\n",
    "################### NALOGA IZ PODATKOVNEGA RUDARJENJA IN STROJNEGA UĆENJA ##################\n",
    "######################### ANALIZA ŠKODE NEKE ZAVAROVALNICE #################################\n",
    "\n",
    "\n",
    "##############################################################################################\n",
    "##############################################################################################\n",
    "##################################### VPOGLED PODATKOV ######################################\n",
    "# Imamo podatke o škodah neke zavarovalnice. To podatkovje vsebuje $10000$ primerov ter $35$ \n",
    "# spremenljivk. Verjetno bo potebno za napoved ciljne spremenljivke zreducirati vhodne \n",
    "# spremenljve, da se izognemo prekletstvu večdimenzionalnosti.\n",
    "# Naloga je preurediti podatke, ter napovedati škodo (= ciljna spremenljivka, Claim_Amount).\n",
    "library(dplyr)\n",
    "library(tidyr)\n",
    "library(caret)\n",
    "library(ggplot2)\n",
    "library(rpart)\n",
    "library(randomForest)\n",
    "setwd('E://Adriana/Ostalo/Ektimo naloga')\n",
    "data <- read.table('podatki.csv',sep=',',header=T,na.strings = c('','?')) \n",
    "#str(data)\n",
    "n <- length(data[,1])\n",
    "data <- select(data,-Row_ID) # Te spremenljivke ni v navodilu."
   ]
  },
  {
   "cell_type": "code",
   "execution_count": 25,
   "metadata": {
    "collapsed": false
   },
   "outputs": [],
   "source": [
    "###########################################################################################\n",
    "############################### REDUCIRANJE KATEGORIJ ####################################\n",
    "# Pri spremenljivkah Blind Model, Blind Submodel in Blind Make imamo\n",
    "# veliko kategorij.\n",
    "# Če pogledamo v podatkovje vidimo, da so si te spremenljivke zelo podobne,\n",
    "# kar pove že samo ime. V spremenljivki Blind Submodel so shranjene vse informacije\n",
    "# od Blind Make in Blind Model. \n",
    "# \n",
    "# Odločili smo se spremenljivko Blind Submodel razbiti:\n",
    "#\n",
    "#  Najprej smo ločili na dva dela: na del s številkami in na del s črkami (= Blind Make)\n",
    "#  Nato smo pa še Blind Make v dva stolpca, v vsakem stolpcu ena črka.\n",
    "#\n",
    "# S tem smo zreducirali število kategorij pri faktorskem vektorju, ter iz številskega dela \n",
    "# naredili numerično spremenljivko.\n",
    "#\n",
    "# Ocenitev starosti avtomobila\n",
    "# Ocenili smo približno starost avtomobila:\n",
    "#\n",
    "# Ko je bilo avto zavarovano $-$ Model Year,\n",
    "# \n",
    "# kar nam da pa tudi vrednost $-1$.\n",
    "# To pa zgodi zato: Ko je avto že kupljen in zavarovan, so na avtu spremenili\n",
    "# nek del avta (npr luČi) in je potem v našem primeru lahko avto eno leto manjše,\n",
    "# kot je sicer. To je o starosti najboljše kar lahko povemo.\n",
    "\n",
    "data <- data %>% separate(Blind_Make, into = c('Blind_M1', 'Blind_M2','Blind_M33','Blind_M34'),\n",
    "                          fill='right',sep='()') %>% select(-Blind_M1,-Blind_M34) %>%\n",
    "  mutate(Blind_M3 = replace(Blind_M33, Blind_M33 == '', NA)) %>%\n",
    "  select(-Blind_M33)\n",
    "\n",
    "data <- data %>%  mutate(Age = Calendar_Year - Model_Year) %>% \n",
    "  separate(Blind_Submodel, c('Blind', 'model','submodel'), sep ='[.]') %>% \n",
    "  select(-c(Blind,Blind_Model)) %>%\n",
    "  unite('Submodel',c(model,submodel),sep='.')\n",
    "\n",
    "tmp_vec <- select(data,Submodel)\n",
    "tmp_vec <- gsub(\"NA.NA\", '0',tmp_vec[,1]) #NA.NA vrednosti pri Sumbmodelu nadomestimo 0.\n",
    "data <- data %>% mutate(Submodel.2 = as.numeric(tmp_vec)) %>% select(-Submodel)"
   ]
  },
  {
   "cell_type": "code",
   "execution_count": 26,
   "metadata": {
    "collapsed": false
   },
   "outputs": [
    {
     "data": {},
     "metadata": {},
     "output_type": "display_data"
    },
    {
     "data": {
      "image/png": "[encoded data removed]",
      "text/plain": [
       "plot without title"
      ]
     },
     "metadata": {},
     "output_type": "display_data"
    }
   ],
   "source": [
    "######################################################################################\n",
    "################################### MANJKAJOČE VREDNOSTI ###################################\n",
    "\n",
    "# Odstranitev manjkajočih vrednosti ni prava rešitev, ker nam potem ostane približno\n",
    "# samo 28 % celotnega podatkovja.\n",
    "data_NA <- data.frame(colSums(is.na(data))) # Tabela, ki pove koliko vrednosti manjka\n",
    "# pri vsaki spremenljivki\n",
    "names(data_NA) <- 'Sum_of_NA_v'\n",
    "\n",
    "ggplot(data=data_NA, aes(x=row.names(data_NA), y=Sum_of_NA_v)) +\n",
    "  geom_bar(stat=\"identity\",fill=\"steelblue\")+\n",
    "  geom_text(aes(label=Sum_of_NA_v), vjust=3, color=\"white\", size=3)+\n",
    "  labs(title=\"Sum of NA values for variables\", \n",
    "       x=\"Variables\", y = \"Sum of NA values\")+\n",
    "  theme_minimal()"
   ]
  },
  {
   "cell_type": "code",
   "execution_count": 27,
   "metadata": {
    "collapsed": false
   },
   "outputs": [
    {
     "data": {
      "text/html": [
       "<table>\n",
       "<thead><tr><th></th><th scope=col>Overall</th></tr></thead>\n",
       "<tbody>\n",
       "\t<tr><th scope=row>Age</th><td>12.85743983</td></tr>\n",
       "\t<tr><th scope=row>Blind_M2</th><td> 7.87559288</td></tr>\n",
       "\t<tr><th scope=row>Blind_M3</th><td> 3.82325792</td></tr>\n",
       "\t<tr><th scope=row>Calendar_Year</th><td> 5.45385677</td></tr>\n",
       "\t<tr><th scope=row>Cat1</th><td> 2.97196133</td></tr>\n",
       "\t<tr><th scope=row>Cat10</th><td> 4.12553894</td></tr>\n",
       "\t<tr><th scope=row>Cat11</th><td> 8.70936192</td></tr>\n",
       "\t<tr><th scope=row>Cat12</th><td>11.66249893</td></tr>\n",
       "\t<tr><th scope=row>Cat2</th><td> 1.19320866</td></tr>\n",
       "\t<tr><th scope=row>Cat3</th><td> 1.40823845</td></tr>\n",
       "\t<tr><th scope=row>Cat4</th><td> 0.70856482</td></tr>\n",
       "\t<tr><th scope=row>Cat5</th><td> 0.08731446</td></tr>\n",
       "\t<tr><th scope=row>Cat6</th><td> 2.44919358</td></tr>\n",
       "\t<tr><th scope=row>Cat7</th><td> 0.59207556</td></tr>\n",
       "\t<tr><th scope=row>Cat8</th><td> 0.96171303</td></tr>\n",
       "\t<tr><th scope=row>Cat9</th><td> 0.57898253</td></tr>\n",
       "\t<tr><th scope=row>Household_ID</th><td>30.29736258</td></tr>\n",
       "\t<tr><th scope=row>Model_Year</th><td>10.06922800</td></tr>\n",
       "\t<tr><th scope=row>NVCat</th><td> 9.54510035</td></tr>\n",
       "\t<tr><th scope=row>NVVar1</th><td> 1.48423513</td></tr>\n",
       "\t<tr><th scope=row>NVVar2</th><td> 2.38435918</td></tr>\n",
       "\t<tr><th scope=row>NVVar3</th><td> 1.80526853</td></tr>\n",
       "\t<tr><th scope=row>NVVar4</th><td> 1.80358316</td></tr>\n",
       "\t<tr><th scope=row>OrdCat</th><td> 1.13416252</td></tr>\n",
       "\t<tr><th scope=row>Submodel.2</th><td>10.26359760</td></tr>\n",
       "\t<tr><th scope=row>Var1</th><td> 7.03574661</td></tr>\n",
       "\t<tr><th scope=row>Var2</th><td> 9.71591711</td></tr>\n",
       "\t<tr><th scope=row>Var3</th><td> 5.05357286</td></tr>\n",
       "\t<tr><th scope=row>Var4</th><td> 7.94402898</td></tr>\n",
       "\t<tr><th scope=row>Var5</th><td> 7.97891846</td></tr>\n",
       "\t<tr><th scope=row>Var6</th><td>10.81673431</td></tr>\n",
       "\t<tr><th scope=row>Var7</th><td> 7.01443753</td></tr>\n",
       "\t<tr><th scope=row>Var8</th><td>14.42480950</td></tr>\n",
       "\t<tr><th scope=row>Vehicle</th><td> 6.25588184</td></tr>\n",
       "</tbody>\n",
       "</table>\n"
      ],
      "text/latex": [
       "\\begin{tabular}{r|l}\n",
       "  & Overall\\\\\n",
       "\\hline\n",
       "\tAge & 12.85743983\\\\\n",
       "\tBlind\\_M2 &  7.87559288\\\\\n",
       "\tBlind\\_M3 &  3.82325792\\\\\n",
       "\tCalendar\\_Year &  5.45385677\\\\\n",
       "\tCat1 &  2.97196133\\\\\n",
       "\tCat10 &  4.12553894\\\\\n",
       "\tCat11 &  8.70936192\\\\\n",
       "\tCat12 & 11.66249893\\\\\n",
       "\tCat2 &  1.19320866\\\\\n",
       "\tCat3 &  1.40823845\\\\\n",
       "\tCat4 &  0.70856482\\\\\n",
       "\tCat5 &  0.08731446\\\\\n",
       "\tCat6 &  2.44919358\\\\\n",
       "\tCat7 &  0.59207556\\\\\n",
       "\tCat8 &  0.96171303\\\\\n",
       "\tCat9 &  0.57898253\\\\\n",
       "\tHousehold\\_ID & 30.29736258\\\\\n",
       "\tModel\\_Year & 10.06922800\\\\\n",
       "\tNVCat &  9.54510035\\\\\n",
       "\tNVVar1 &  1.48423513\\\\\n",
       "\tNVVar2 &  2.38435918\\\\\n",
       "\tNVVar3 &  1.80526853\\\\\n",
       "\tNVVar4 &  1.80358316\\\\\n",
       "\tOrdCat &  1.13416252\\\\\n",
       "\tSubmodel.2 & 10.26359760\\\\\n",
       "\tVar1 &  7.03574661\\\\\n",
       "\tVar2 &  9.71591711\\\\\n",
       "\tVar3 &  5.05357286\\\\\n",
       "\tVar4 &  7.94402898\\\\\n",
       "\tVar5 &  7.97891846\\\\\n",
       "\tVar6 & 10.81673431\\\\\n",
       "\tVar7 &  7.01443753\\\\\n",
       "\tVar8 & 14.42480950\\\\\n",
       "\tVehicle &  6.25588184\\\\\n",
       "\\end{tabular}\n"
      ],
      "text/plain": [
       "              Overall    \n",
       "Age           12.85743983\n",
       "Blind_M2       7.87559288\n",
       "Blind_M3       3.82325792\n",
       "Calendar_Year  5.45385677\n",
       "Cat1           2.97196133\n",
       "Cat10          4.12553894\n",
       "Cat11          8.70936192\n",
       "Cat12         11.66249893\n",
       "Cat2           1.19320866\n",
       "Cat3           1.40823845\n",
       "Cat4           0.70856482\n",
       "Cat5           0.08731446\n",
       "Cat6           2.44919358\n",
       "Cat7           0.59207556\n",
       "Cat8           0.96171303\n",
       "Cat9           0.57898253\n",
       "Household_ID  30.29736258\n",
       "Model_Year    10.06922800\n",
       "NVCat          9.54510035\n",
       "NVVar1         1.48423513\n",
       "NVVar2         2.38435918\n",
       "NVVar3         1.80526853\n",
       "NVVar4         1.80358316\n",
       "OrdCat         1.13416252\n",
       "Submodel.2    10.26359760\n",
       "Var1           7.03574661\n",
       "Var2           9.71591711\n",
       "Var3           5.05357286\n",
       "Var4           7.94402898\n",
       "Var5           7.97891846\n",
       "Var6          10.81673431\n",
       "Var7           7.01443753\n",
       "Var8          14.42480950\n",
       "Vehicle        6.25588184"
      ]
     },
     "metadata": {},
     "output_type": "display_data"
    }
   ],
   "source": [
    "####################### 1. ODSTRANITEV SPREMENLJIVK #########################\n",
    "\n",
    "# Vidimo da pri nekaterih spremenljivkah manjka skoraj polovica podatkov.\n",
    "\n",
    "# KAKO POMEMBNE SO SPREMENLJIVKE ZA NAŠO CILJNO SPREMENLJIVKO?\n",
    "# Z drevesom, ki sprejme NA vrednosti pogledamo katere spremenljivke so pomembne\n",
    "# za ciljno spremenljivko.\n",
    "\n",
    "tree1 <- rpart(data$Claim_Amount~., data = data, control =rpart.control(cp = -1))\n",
    "varImp(tree1)\n",
    "\n",
    "# Spremenljivke, pri katerih manjka največ vrednosti so Cat4, Cat5, Cat7 in Blind_M3.\n",
    "# Z drevesom, ki NA obravnava kot svojo kategorijo smo preverili, da so te spremenljivke\n",
    "# nepomembne za našo ciljno spremenljivko. \n",
    "\n",
    "data <- select(data,-Cat4, -Cat5, -Cat7, -Blind_M3)"
   ]
  },
  {
   "cell_type": "code",
   "execution_count": 28,
   "metadata": {
    "collapsed": false
   },
   "outputs": [],
   "source": [
    "################ 2. NADOMESTITEV NA PRI FAKTORSKIH SPREMENLJIVKAH ################\n",
    "\n",
    "# Definiramo novo kategorijo, kjer manjkajo vrednosti. To naredimo pri spremenljivkah:\n",
    "# Blind M2, Cat1, Cat2, Cat3, Cat6, Cat8, Cat10, Cat11, Cat12 in NVCat.\n",
    "mnf <- function(col){ # Funkcija, ki NA vrednost pretvori v kategorijo\n",
    "  col = factor(as.character(col),exclude=NULL)\n",
    "}\n",
    "tmp_data <- data %>%select_if(is.factor) %>% select(-Cat9) # Cat9 je popolna spremen.\n",
    "data <- data %>% mutate(Blind.M2 = mnf(Blind_M2),\n",
    "                        Cat1.2 = mnf(Cat1),\n",
    "                        Cat2.2 = mnf(Cat2),\n",
    "                        Cat3.2 = mnf(Cat3),\n",
    "                        Cat6.2 = mnf(Cat6),\n",
    "                        Cat8.2 = mnf(Cat8),\n",
    "                        Cat10.2 = mnf(Cat10),\n",
    "                        Cat11.2 = mnf(Cat11),\n",
    "                        Cat12.2 = mnf(Cat12),\n",
    "                        NVCat.2 = mnf(NVCat)) %>%\n",
    "  select(-Blind_M2,-Cat1,-Cat2,-Cat3,-Cat6,-Cat8,-Cat10,-Cat11,-Cat12,-NVCat)"
   ]
  },
  {
   "cell_type": "code",
   "execution_count": 12,
   "metadata": {
    "collapsed": false
   },
   "outputs": [
    {
     "data": {
      "text/html": [
       "<ol class=list-inline>\n",
       "\t<li>'Household_ID'</li>\n",
       "\t<li>'Vehicle'</li>\n",
       "\t<li>'Calendar_Year'</li>\n",
       "\t<li>'Model_Year'</li>\n",
       "\t<li>'Submodel'</li>\n",
       "\t<li>'Cat9'</li>\n",
       "\t<li>'OrdCat'</li>\n",
       "\t<li>'Var1'</li>\n",
       "\t<li>'Var2'</li>\n",
       "\t<li>'Var3'</li>\n",
       "\t<li>'Var4'</li>\n",
       "\t<li>'Var5'</li>\n",
       "\t<li>'Var6'</li>\n",
       "\t<li>'Var7'</li>\n",
       "\t<li>'Var8'</li>\n",
       "\t<li>'NVVar1'</li>\n",
       "\t<li>'NVVar2'</li>\n",
       "\t<li>'NVVar3'</li>\n",
       "\t<li>'NVVar4'</li>\n",
       "\t<li>'Claim_Amount'</li>\n",
       "\t<li>'Age'</li>\n",
       "\t<li>'Blind.M2'</li>\n",
       "\t<li>'Cat1.2'</li>\n",
       "\t<li>'Cat2.2'</li>\n",
       "\t<li>'Cat3.2'</li>\n",
       "\t<li>'Cat6.2'</li>\n",
       "\t<li>'Cat8.2'</li>\n",
       "\t<li>'Cat10.2'</li>\n",
       "\t<li>'Cat11.2'</li>\n",
       "\t<li>'Cat12.2'</li>\n",
       "\t<li>'NVCat.2'</li>\n",
       "</ol>\n"
      ],
      "text/latex": [
       "\\begin{enumerate*}\n",
       "\\item 'Household\\_ID'\n",
       "\\item 'Vehicle'\n",
       "\\item 'Calendar\\_Year'\n",
       "\\item 'Model\\_Year'\n",
       "\\item 'Submodel'\n",
       "\\item 'Cat9'\n",
       "\\item 'OrdCat'\n",
       "\\item 'Var1'\n",
       "\\item 'Var2'\n",
       "\\item 'Var3'\n",
       "\\item 'Var4'\n",
       "\\item 'Var5'\n",
       "\\item 'Var6'\n",
       "\\item 'Var7'\n",
       "\\item 'Var8'\n",
       "\\item 'NVVar1'\n",
       "\\item 'NVVar2'\n",
       "\\item 'NVVar3'\n",
       "\\item 'NVVar4'\n",
       "\\item 'Claim\\_Amount'\n",
       "\\item 'Age'\n",
       "\\item 'Blind.M2'\n",
       "\\item 'Cat1.2'\n",
       "\\item 'Cat2.2'\n",
       "\\item 'Cat3.2'\n",
       "\\item 'Cat6.2'\n",
       "\\item 'Cat8.2'\n",
       "\\item 'Cat10.2'\n",
       "\\item 'Cat11.2'\n",
       "\\item 'Cat12.2'\n",
       "\\item 'NVCat.2'\n",
       "\\end{enumerate*}\n"
      ],
      "text/markdown": [
       "1. 'Household_ID'\n",
       "2. 'Vehicle'\n",
       "3. 'Calendar_Year'\n",
       "4. 'Model_Year'\n",
       "5. 'Submodel'\n",
       "6. 'Cat9'\n",
       "7. 'OrdCat'\n",
       "8. 'Var1'\n",
       "9. 'Var2'\n",
       "10. 'Var3'\n",
       "11. 'Var4'\n",
       "12. 'Var5'\n",
       "13. 'Var6'\n",
       "14. 'Var7'\n",
       "15. 'Var8'\n",
       "16. 'NVVar1'\n",
       "17. 'NVVar2'\n",
       "18. 'NVVar3'\n",
       "19. 'NVVar4'\n",
       "20. 'Claim_Amount'\n",
       "21. 'Age'\n",
       "22. 'Blind.M2'\n",
       "23. 'Cat1.2'\n",
       "24. 'Cat2.2'\n",
       "25. 'Cat3.2'\n",
       "26. 'Cat6.2'\n",
       "27. 'Cat8.2'\n",
       "28. 'Cat10.2'\n",
       "29. 'Cat11.2'\n",
       "30. 'Cat12.2'\n",
       "31. 'NVCat.2'\n",
       "\n",
       "\n"
      ],
      "text/plain": [
       " [1] \"Household_ID\"  \"Vehicle\"       \"Calendar_Year\" \"Model_Year\"   \n",
       " [5] \"Submodel\"      \"Cat9\"          \"OrdCat\"        \"Var1\"         \n",
       " [9] \"Var2\"          \"Var3\"          \"Var4\"          \"Var5\"         \n",
       "[13] \"Var6\"          \"Var7\"          \"Var8\"          \"NVVar1\"       \n",
       "[17] \"NVVar2\"        \"NVVar3\"        \"NVVar4\"        \"Claim_Amount\" \n",
       "[21] \"Age\"           \"Blind.M2\"      \"Cat1.2\"        \"Cat2.2\"       \n",
       "[25] \"Cat3.2\"        \"Cat6.2\"        \"Cat8.2\"        \"Cat10.2\"      \n",
       "[29] \"Cat11.2\"       \"Cat12.2\"       \"NVCat.2\"      "
      ]
     },
     "metadata": {},
     "output_type": "display_data"
    }
   ],
   "source": []
  },
  {
   "cell_type": "code",
   "execution_count": 29,
   "metadata": {
    "collapsed": false
   },
   "outputs": [
    {
     "data": {
      "text/html": [
       "<table>\n",
       "<thead><tr><th scope=col>OrdCat</th><th scope=col>numofC</th><th scope=col>suma</th></tr></thead>\n",
       "<tbody>\n",
       "\t<tr><td> 1        </td><td>  107     </td><td>    0.0000</td></tr>\n",
       "\t<tr><td> 2        </td><td>31445     </td><td>49765.2694</td></tr>\n",
       "\t<tr><td> 3        </td><td>  708     </td><td>  121.3771</td></tr>\n",
       "\t<tr><td> 4        </td><td>44976     </td><td>57245.6222</td></tr>\n",
       "\t<tr><td> 5        </td><td>22537     </td><td>21171.9155</td></tr>\n",
       "\t<tr><td> 6        </td><td>  135     </td><td>    0.0000</td></tr>\n",
       "\t<tr><td> 7        </td><td>   36     </td><td>    0.0000</td></tr>\n",
       "\t<tr><td>NA        </td><td>   56     </td><td>    0.0000</td></tr>\n",
       "</tbody>\n",
       "</table>\n"
      ],
      "text/latex": [
       "\\begin{tabular}{r|lll}\n",
       " OrdCat & numofC & suma\\\\\n",
       "\\hline\n",
       "\t  1         &   107      &     0.0000\\\\\n",
       "\t  2         & 31445      & 49765.2694\\\\\n",
       "\t  3         &   708      &   121.3771\\\\\n",
       "\t  4         & 44976      & 57245.6222\\\\\n",
       "\t  5         & 22537      & 21171.9155\\\\\n",
       "\t  6         &   135      &     0.0000\\\\\n",
       "\t  7         &    36      &     0.0000\\\\\n",
       "\t NA         &    56      &     0.0000\\\\\n",
       "\\end{tabular}\n"
      ],
      "text/plain": [
       "  OrdCat numofC suma      \n",
       "1  1       107      0.0000\n",
       "2  2     31445  49765.2694\n",
       "3  3       708    121.3771\n",
       "4  4     44976  57245.6222\n",
       "5  5     22537  21171.9155\n",
       "6  6       135      0.0000\n",
       "7  7        36      0.0000\n",
       "8 NA        56      0.0000"
      ]
     },
     "metadata": {},
     "output_type": "display_data"
    }
   ],
   "source": [
    "################ 3. NADOMESTITEV NA PRI FAKTORSKIH SPREMENLJIVKAH ################\n",
    "# Taka spremenljivka je OrdCat. Zamenjamo z vrednostjo, ki se največkrat pojavi\n",
    "# glede na ciljno spremenljivko:\n",
    "\n",
    "tmp_data <- data  %>% group_by(OrdCat) %>% summarize(numofC = n(), suma = sum(Claim_Amount))\n",
    "tmp_data\n",
    "\n",
    "# Odločili smo se manjkajoče vrednosti zamenjati s 6. \n",
    "# To pa zato, ker \n",
    "#\n",
    "# je vsota škode pri $6$ enaka $0$ ter od teh,\n",
    "# ki imajo vsoto škode enako $0$ se $6$ največkrat pojavi.\n",
    "\n",
    "data <- data %>% replace_na(list(OrdCat = 6))"
   ]
  },
  {
   "cell_type": "code",
   "execution_count": 30,
   "metadata": {
    "collapsed": false
   },
   "outputs": [
    {
     "data": {
      "text/html": [
       "<table>\n",
       "<thead><tr><th></th><th scope=col>Var1</th><th scope=col>Var2</th><th scope=col>Var3</th><th scope=col>Var4</th><th scope=col>Var5</th><th scope=col>Var6</th><th scope=col>Var7</th><th scope=col>Var8</th><th scope=col>NVVar1</th><th scope=col>NVVar2</th><th scope=col>NVVar3</th><th scope=col>NVVar4</th></tr></thead>\n",
       "<tbody>\n",
       "\t<tr><th scope=row>Var1</th><td>1          </td><td>0.5603369  </td><td>0.7459318  </td><td>0.5770346  </td><td>0.9066460  </td><td>0.7782825  </td><td>0.6760876  </td><td>0.2735077  </td><td>-0.01882558</td><td>-0.04367862</td><td>-0.01132621</td><td>-0.06579855</td></tr>\n",
       "\t<tr><th scope=row>Var2</th><td>0          </td><td>1.0000000  </td><td>0.6470781  </td><td>0.9827025  </td><td>0.5728292  </td><td>0.7718901  </td><td>0.5129109  </td><td>0.7045626  </td><td>-0.01764620</td><td>-0.05568657</td><td>-0.02743253</td><td>-0.05586815</td></tr>\n",
       "\t<tr><th scope=row>Var3</th><td>0          </td><td>0.0000000  </td><td>1.0000000  </td><td>0.6577080  </td><td>0.7863491  </td><td>0.8278832  </td><td>0.6713439  </td><td>0.3621354  </td><td>-0.03378327</td><td>-0.04948243</td><td>-0.02068019</td><td>-0.07131538</td></tr>\n",
       "\t<tr><th scope=row>Var4</th><td>0          </td><td>0.0000000  </td><td>0.0000000  </td><td>1.0000000  </td><td>0.5927954  </td><td>0.7854117  </td><td>0.5247318  </td><td>0.6940196  </td><td>-0.01604255</td><td>-0.05631555</td><td>-0.02683692</td><td>-0.05865954</td></tr>\n",
       "\t<tr><th scope=row>Var5</th><td>0          </td><td>0.0000000  </td><td>0.0000000  </td><td>0.0000000  </td><td>1.0000000  </td><td>0.7507860  </td><td>0.4999762  </td><td>0.3061252  </td><td>-0.01884480</td><td>-0.04167994</td><td>-0.01442260</td><td>-0.06456837</td></tr>\n",
       "\t<tr><th scope=row>Var6</th><td>0          </td><td>0.0000000  </td><td>0.0000000  </td><td>0.0000000  </td><td>0.0000000  </td><td>1.0000000  </td><td>0.8047180  </td><td>0.5819204  </td><td>-0.03757330</td><td>-0.05844595</td><td>-0.02456145</td><td>-0.07827306</td></tr>\n",
       "\t<tr><th scope=row>Var7</th><td>0          </td><td>0.0000000  </td><td>0.0000000  </td><td>0.0000000  </td><td>0.0000000  </td><td>0.0000000  </td><td>1.0000000  </td><td>0.2562481  </td><td>-0.03384510</td><td>-0.05253263</td><td>-0.01750965</td><td>-0.07015890</td></tr>\n",
       "\t<tr><th scope=row>Var8</th><td>0          </td><td>0.0000000  </td><td>0.0000000  </td><td>0.0000000  </td><td>0.0000000  </td><td>0.0000000  </td><td>0.0000000  </td><td>1.0000000  </td><td>-0.03525240</td><td>-0.04340779</td><td>-0.03436117</td><td>-0.05070921</td></tr>\n",
       "\t<tr><th scope=row>NVVar1</th><td>0          </td><td>0.0000000  </td><td>0.0000000  </td><td>0.0000000  </td><td>0.0000000  </td><td>0.0000000  </td><td>0.0000000  </td><td>0.0000000  </td><td> 1.00000000</td><td>-0.01124870</td><td>-0.03988390</td><td> 0.07327420</td></tr>\n",
       "\t<tr><th scope=row>NVVar2</th><td>0          </td><td>0.0000000  </td><td>0.0000000  </td><td>0.0000000  </td><td>0.0000000  </td><td>0.0000000  </td><td>0.0000000  </td><td>0.0000000  </td><td> 0.00000000</td><td> 1.00000000</td><td> 0.01932431</td><td>-0.04734705</td></tr>\n",
       "\t<tr><th scope=row>NVVar3</th><td>0          </td><td>0.0000000  </td><td>0.0000000  </td><td>0.0000000  </td><td>0.0000000  </td><td>0.0000000  </td><td>0.0000000  </td><td>0.0000000  </td><td> 0.00000000</td><td> 0.00000000</td><td> 1.00000000</td><td>-0.04382233</td></tr>\n",
       "\t<tr><th scope=row>NVVar4</th><td>0          </td><td>0.0000000  </td><td>0.0000000  </td><td>0.0000000  </td><td>0.0000000  </td><td>0.0000000  </td><td>0.0000000  </td><td>0.0000000  </td><td> 0.00000000</td><td> 0.00000000</td><td> 0.00000000</td><td> 1.00000000</td></tr>\n",
       "</tbody>\n",
       "</table>\n"
      ],
      "text/latex": [
       "\\begin{tabular}{r|llllllllllll}\n",
       "  & Var1 & Var2 & Var3 & Var4 & Var5 & Var6 & Var7 & Var8 & NVVar1 & NVVar2 & NVVar3 & NVVar4\\\\\n",
       "\\hline\n",
       "\tVar1 & 1           & 0.5603369   & 0.7459318   & 0.5770346   & 0.9066460   & 0.7782825   & 0.6760876   & 0.2735077   & -0.01882558 & -0.04367862 & -0.01132621 & -0.06579855\\\\\n",
       "\tVar2 & 0           & 1.0000000   & 0.6470781   & 0.9827025   & 0.5728292   & 0.7718901   & 0.5129109   & 0.7045626   & -0.01764620 & -0.05568657 & -0.02743253 & -0.05586815\\\\\n",
       "\tVar3 & 0           & 0.0000000   & 1.0000000   & 0.6577080   & 0.7863491   & 0.8278832   & 0.6713439   & 0.3621354   & -0.03378327 & -0.04948243 & -0.02068019 & -0.07131538\\\\\n",
       "\tVar4 & 0           & 0.0000000   & 0.0000000   & 1.0000000   & 0.5927954   & 0.7854117   & 0.5247318   & 0.6940196   & -0.01604255 & -0.05631555 & -0.02683692 & -0.05865954\\\\\n",
       "\tVar5 & 0           & 0.0000000   & 0.0000000   & 0.0000000   & 1.0000000   & 0.7507860   & 0.4999762   & 0.3061252   & -0.01884480 & -0.04167994 & -0.01442260 & -0.06456837\\\\\n",
       "\tVar6 & 0           & 0.0000000   & 0.0000000   & 0.0000000   & 0.0000000   & 1.0000000   & 0.8047180   & 0.5819204   & -0.03757330 & -0.05844595 & -0.02456145 & -0.07827306\\\\\n",
       "\tVar7 & 0           & 0.0000000   & 0.0000000   & 0.0000000   & 0.0000000   & 0.0000000   & 1.0000000   & 0.2562481   & -0.03384510 & -0.05253263 & -0.01750965 & -0.07015890\\\\\n",
       "\tVar8 & 0           & 0.0000000   & 0.0000000   & 0.0000000   & 0.0000000   & 0.0000000   & 0.0000000   & 1.0000000   & -0.03525240 & -0.04340779 & -0.03436117 & -0.05070921\\\\\n",
       "\tNVVar1 & 0           & 0.0000000   & 0.0000000   & 0.0000000   & 0.0000000   & 0.0000000   & 0.0000000   & 0.0000000   &  1.00000000 & -0.01124870 & -0.03988390 &  0.07327420\\\\\n",
       "\tNVVar2 & 0           & 0.0000000   & 0.0000000   & 0.0000000   & 0.0000000   & 0.0000000   & 0.0000000   & 0.0000000   &  0.00000000 &  1.00000000 &  0.01932431 & -0.04734705\\\\\n",
       "\tNVVar3 & 0           & 0.0000000   & 0.0000000   & 0.0000000   & 0.0000000   & 0.0000000   & 0.0000000   & 0.0000000   &  0.00000000 &  0.00000000 &  1.00000000 & -0.04382233\\\\\n",
       "\tNVVar4 & 0           & 0.0000000   & 0.0000000   & 0.0000000   & 0.0000000   & 0.0000000   & 0.0000000   & 0.0000000   &  0.00000000 &  0.00000000 &  0.00000000 &  1.00000000\\\\\n",
       "\\end{tabular}\n"
      ],
      "text/markdown": [
       "1. 1\n",
       "2. 0\n",
       "3. 0\n",
       "4. 0\n",
       "5. 0\n",
       "6. 0\n",
       "7. 0\n",
       "8. 0\n",
       "9. 0\n",
       "10. 0\n",
       "11. 0\n",
       "12. 0\n",
       "13. 0.560336876415022\n",
       "14. 1\n",
       "15. 0\n",
       "16. 0\n",
       "17. 0\n",
       "18. 0\n",
       "19. 0\n",
       "20. 0\n",
       "21. 0\n",
       "22. 0\n",
       "23. 0\n",
       "24. 0\n",
       "25. 0.745931777458745\n",
       "26. 0.647078058429455\n",
       "27. 1\n",
       "28. 0\n",
       "29. 0\n",
       "30. 0\n",
       "31. 0\n",
       "32. 0\n",
       "33. 0\n",
       "34. 0\n",
       "35. 0\n",
       "36. 0\n",
       "37. 0.577034607912522\n",
       "38. 0.9827024720121\n",
       "39. 0.657707951094734\n",
       "40. 1\n",
       "41. 0\n",
       "42. 0\n",
       "43. 0\n",
       "44. 0\n",
       "45. 0\n",
       "46. 0\n",
       "47. 0\n",
       "48. 0\n",
       "49. 0.906645985481002\n",
       "50. 0.572829236671243\n",
       "51. 0.786349106112088\n",
       "52. 0.592795388283943\n",
       "53. 1\n",
       "54. 0\n",
       "55. 0\n",
       "56. 0\n",
       "57. 0\n",
       "58. 0\n",
       "59. 0\n",
       "60. 0\n",
       "61. 0.778282519537888\n",
       "62. 0.771890110270059\n",
       "63. 0.82788322655627\n",
       "64. 0.785411680609888\n",
       "65. 0.750786042323937\n",
       "66. 1\n",
       "67. 0\n",
       "68. 0\n",
       "69. 0\n",
       "70. 0\n",
       "71. 0\n",
       "72. 0\n",
       "73. 0.676087599496029\n",
       "74. 0.512910884615305\n",
       "75. 0.671343932665899\n",
       "76. 0.524731752523503\n",
       "77. 0.49997620833208\n",
       "78. 0.804717969226195\n",
       "79. 1\n",
       "80. 0\n",
       "81. 0\n",
       "82. 0\n",
       "83. 0\n",
       "84. 0\n",
       "85. 0.273507709580434\n",
       "86. 0.704562560089097\n",
       "87. 0.362135447178737\n",
       "88. 0.694019550106753\n",
       "89. 0.306125163395153\n",
       "90. 0.58192041235375\n",
       "91. 0.256248114232227\n",
       "92. 1\n",
       "93. 0\n",
       "94. 0\n",
       "95. 0\n",
       "96. 0\n",
       "97. -0.0188255780207588\n",
       "98. -0.0176461990233764\n",
       "99. -0.0337832656564713\n",
       "100. -0.0160425452385814\n",
       "101. -0.0188447976440569\n",
       "102. -0.0375733035883452\n",
       "103. -0.0338451022561022\n",
       "104. -0.0352524009755333\n",
       "105. 1\n",
       "106. 0\n",
       "107. 0\n",
       "108. 0\n",
       "109. -0.0436786213995555\n",
       "110. -0.0556865698501292\n",
       "111. -0.0494824321894322\n",
       "112. -0.0563155526580302\n",
       "113. -0.0416799428640295\n",
       "114. -0.0584459499757629\n",
       "115. -0.0525326307446525\n",
       "116. -0.0434077900190142\n",
       "117. -0.011248695400426\n",
       "118. 1\n",
       "119. 0\n",
       "120. 0\n",
       "121. -0.0113262053259303\n",
       "122. -0.0274325326074824\n",
       "123. -0.0206801859982784\n",
       "124. -0.0268369189680794\n",
       "125. -0.0144226014570642\n",
       "126. -0.0245614544180565\n",
       "127. -0.017509652605986\n",
       "128. -0.0343611692675844\n",
       "129. -0.0398839022397662\n",
       "130. 0.0193243075901867\n",
       "131. 1\n",
       "132. 0\n",
       "133. -0.0657985539910403\n",
       "134. -0.0558681536767813\n",
       "135. -0.0713153750878102\n",
       "136. -0.0586595380166579\n",
       "137. -0.0645683717564384\n",
       "138. -0.0782730627570274\n",
       "139. -0.0701588990058204\n",
       "140. -0.0507092129821995\n",
       "141. 0.0732742002805283\n",
       "142. -0.0473470508264255\n",
       "143. -0.0438223269815905\n",
       "144. 1\n",
       "\n",
       "\n"
      ],
      "text/plain": [
       "       Var1 Var2      Var3      Var4      Var5      Var6      Var7     \n",
       "Var1   1    0.5603369 0.7459318 0.5770346 0.9066460 0.7782825 0.6760876\n",
       "Var2   0    1.0000000 0.6470781 0.9827025 0.5728292 0.7718901 0.5129109\n",
       "Var3   0    0.0000000 1.0000000 0.6577080 0.7863491 0.8278832 0.6713439\n",
       "Var4   0    0.0000000 0.0000000 1.0000000 0.5927954 0.7854117 0.5247318\n",
       "Var5   0    0.0000000 0.0000000 0.0000000 1.0000000 0.7507860 0.4999762\n",
       "Var6   0    0.0000000 0.0000000 0.0000000 0.0000000 1.0000000 0.8047180\n",
       "Var7   0    0.0000000 0.0000000 0.0000000 0.0000000 0.0000000 1.0000000\n",
       "Var8   0    0.0000000 0.0000000 0.0000000 0.0000000 0.0000000 0.0000000\n",
       "NVVar1 0    0.0000000 0.0000000 0.0000000 0.0000000 0.0000000 0.0000000\n",
       "NVVar2 0    0.0000000 0.0000000 0.0000000 0.0000000 0.0000000 0.0000000\n",
       "NVVar3 0    0.0000000 0.0000000 0.0000000 0.0000000 0.0000000 0.0000000\n",
       "NVVar4 0    0.0000000 0.0000000 0.0000000 0.0000000 0.0000000 0.0000000\n",
       "       Var8      NVVar1      NVVar2      NVVar3      NVVar4     \n",
       "Var1   0.2735077 -0.01882558 -0.04367862 -0.01132621 -0.06579855\n",
       "Var2   0.7045626 -0.01764620 -0.05568657 -0.02743253 -0.05586815\n",
       "Var3   0.3621354 -0.03378327 -0.04948243 -0.02068019 -0.07131538\n",
       "Var4   0.6940196 -0.01604255 -0.05631555 -0.02683692 -0.05865954\n",
       "Var5   0.3061252 -0.01884480 -0.04167994 -0.01442260 -0.06456837\n",
       "Var6   0.5819204 -0.03757330 -0.05844595 -0.02456145 -0.07827306\n",
       "Var7   0.2562481 -0.03384510 -0.05253263 -0.01750965 -0.07015890\n",
       "Var8   1.0000000 -0.03525240 -0.04340779 -0.03436117 -0.05070921\n",
       "NVVar1 0.0000000  1.00000000 -0.01124870 -0.03988390  0.07327420\n",
       "NVVar2 0.0000000  0.00000000  1.00000000  0.01932431 -0.04734705\n",
       "NVVar3 0.0000000  0.00000000  0.00000000  1.00000000 -0.04382233\n",
       "NVVar4 0.0000000  0.00000000  0.00000000  0.00000000  1.00000000"
      ]
     },
     "metadata": {},
     "output_type": "display_data"
    },
    {
     "data": {},
     "metadata": {},
     "output_type": "display_data"
    },
    {
     "data": {},
     "metadata": {},
     "output_type": "display_data"
    },
    {
     "data": {
      "image/png": "[encoded data removed]",
      "text/plain": [
       "plot without title"
      ]
     },
     "metadata": {},
     "output_type": "display_data"
    },
    {
     "data": {},
     "metadata": {},
     "output_type": "display_data"
    },
    {
     "data": {
      "image/png": "[encoded data removed]",
      "text/plain": [
       "plot without title"
      ]
     },
     "metadata": {},
     "output_type": "display_data"
    },
    {
     "data": {
      "image/png": "[encoded data removed]",
      "text/plain": [
       "plot without title"
      ]
     },
     "metadata": {},
     "output_type": "display_data"
    }
   ],
   "source": [
    "##############################################################################################\n",
    "################################ KORELACIJA MED SPREMENLJIVKAMI ###############################\n",
    "\n",
    "# Videti je nekakšna korelacija med spremenlivkami Var1-Var8 in VarNV1-VarNV4.\n",
    "tmp_data1 <- select(data, Var1:Var8)\n",
    "tmp_data2 <- select(data,   NVVar1:NVVar4)\n",
    "tmp_data <- cbind(tmp_data1,tmp_data2)\n",
    "\n",
    "corel <- cor(as.matrix(tmp_data))\n",
    "corel[lower.tri(corel)] <- 0\n",
    "corel\n",
    "ggplot(tmp_data, aes(Var1, Var5)) + geom_point() + labs(title='Korelacija med Var1 in Var5')\n",
    "ggplot(tmp_data, aes(Var2, Var4)) + geom_point() + labs(title='Korelacija med Var2 in Var4')\n",
    "ggplot(tmp_data, aes(Var3, Var6)) + geom_point() + labs(title='Korelacija med Var3 in Var6')\n",
    "\n",
    "# Med Var2 in Var4 je visoka pozitivna korelacija. \n",
    "# V ostalih dveh primerih je tudi pozitivna, vendar ne tako visoka. Korelacija me spremenljivko\n",
    "# 2 in 4 je skoraj enaka 1."
   ]
  },
  {
   "cell_type": "code",
   "execution_count": 31,
   "metadata": {
    "collapsed": false
   },
   "outputs": [],
   "source": [
    "################################################################################\n",
    "##################### GRUPIRANJE PODATKOV GLEDE NA ZAVAROVANO LETO ############\n",
    "\n",
    "myggplot <- function(mydata,color,main_title,xlab,ylab){\n",
    "  xaes <- names(mydata)[1]\n",
    "  yaes <- names(mydata)[2]\n",
    "  ggplot(data=mydata, aes_string(x=xaes, y=yaes)) +\n",
    "    geom_bar(stat=\"identity\",fill=color)+\n",
    "    geom_text(aes(label= round(mydata[,2],digits = 2)), vjust=1.6, color=\"white\", size=3.5)+\n",
    "    labs(title=main_title,\n",
    "         x= xlab, y = ylab)+\n",
    "    theme_minimal()\n",
    "}\n",
    "# arrange(data, Age) "
   ]
  },
  {
   "cell_type": "code",
   "execution_count": 32,
   "metadata": {
    "collapsed": false
   },
   "outputs": [
    {
     "data": {},
     "metadata": {},
     "output_type": "display_data"
    },
    {
     "data": {
      "image/png": "[encoded data removed]",
      "text/plain": [
       "plot without title"
      ]
     },
     "metadata": {},
     "output_type": "display_data"
    }
   ],
   "source": [
    "Sum_of_CalendarYear <- data %>% group_by(Calendar_Year) %>% summarise(sum(Claim_Amount))\n",
    "# rename(dsfgdg =names(Sum_of_CalendarYear)[2])\n",
    "names(Sum_of_CalendarYear)[2] <- 'Sum_of_CA'\n",
    "\n",
    "myggplot(as.data.frame(Sum_of_CalendarYear),'coral',\n",
    "         \"Yearly sum insured\",'Years','Sum insured')"
   ]
  },
  {
   "cell_type": "code",
   "execution_count": 33,
   "metadata": {
    "collapsed": false
   },
   "outputs": [
    {
     "data": {},
     "metadata": {},
     "output_type": "display_data"
    },
    {
     "data": {},
     "metadata": {},
     "output_type": "display_data"
    },
    {
     "data": {
      "image/png": "[encoded data removed]",
      "text/plain": [
       "plot without title"
      ]
     },
     "metadata": {},
     "output_type": "display_data"
    },
    {
     "data": {
      "image/png": "[encoded data removed]",
      "text/plain": [
       "plot without title"
      ]
     },
     "metadata": {},
     "output_type": "display_data"
    }
   ],
   "source": [
    "# Ali zavarovalnica z leti posluje boljše?\n",
    "# Z leti se škoda zniža. Vendar to ne pomeni nujno, da zavarovalnica boljše posluje.\n",
    "# Smiselno je tudi pogledati, koliko je bilo sklenjenih zavarovanj ter kolikšna je bila\n",
    "# povprečna škoda na leto.\n",
    "\n",
    "Number_of_CalendarYear <- data %>% group_by(Calendar_Year) %>% summarise(length(Calendar_Year))\n",
    "names(Number_of_CalendarYear)[2] <- 'Number_of_customer'\n",
    "myggplot(as.data.frame(Number_of_CalendarYear),'lightgreen',\n",
    "         \"Yearly number of customers\",'Years','Number of customers')\n",
    "\n",
    "Mean_of_insured <- data %>% group_by(Calendar_Year) %>% filter(Claim_Amount !=0) %>%\n",
    "  summarise(mean(Claim_Amount))\n",
    "names(Mean_of_insured)[2] <- 'Mean_of_ins'\n",
    "myggplot(as.data.frame(Mean_of_insured),'coral',\n",
    "         'Yearly mean of insured ','Years','Mean of insured')"
   ]
  },
  {
   "cell_type": "code",
   "execution_count": 34,
   "metadata": {
    "collapsed": false
   },
   "outputs": [
    {
     "data": {
      "text/html": [
       "<table>\n",
       "<thead><tr><th></th><th scope=col>Overall</th></tr></thead>\n",
       "<tbody>\n",
       "\t<tr><th scope=row>Age</th><td> 9.6398397</td></tr>\n",
       "\t<tr><th scope=row>Blind.M2</th><td> 6.9000736</td></tr>\n",
       "\t<tr><th scope=row>Calendar_Year</th><td> 3.9304900</td></tr>\n",
       "\t<tr><th scope=row>Cat1.2</th><td> 4.6430597</td></tr>\n",
       "\t<tr><th scope=row>Cat10.2</th><td> 4.8329268</td></tr>\n",
       "\t<tr><th scope=row>Cat11.2</th><td> 8.6845945</td></tr>\n",
       "\t<tr><th scope=row>Cat12.2</th><td>12.7098546</td></tr>\n",
       "\t<tr><th scope=row>Cat2.2</th><td> 2.8084233</td></tr>\n",
       "\t<tr><th scope=row>Cat3.2</th><td> 0.7339763</td></tr>\n",
       "\t<tr><th scope=row>Cat6.2</th><td> 1.5786774</td></tr>\n",
       "\t<tr><th scope=row>Cat8.2</th><td> 1.1926128</td></tr>\n",
       "\t<tr><th scope=row>Cat9</th><td> 0.8564150</td></tr>\n",
       "\t<tr><th scope=row>Household_ID</th><td>29.3908152</td></tr>\n",
       "\t<tr><th scope=row>Model_Year</th><td> 8.7487045</td></tr>\n",
       "\t<tr><th scope=row>NVCat.2</th><td>11.2759871</td></tr>\n",
       "\t<tr><th scope=row>NVVar1</th><td> 1.6571443</td></tr>\n",
       "\t<tr><th scope=row>NVVar2</th><td> 1.9805075</td></tr>\n",
       "\t<tr><th scope=row>NVVar3</th><td> 1.2704151</td></tr>\n",
       "\t<tr><th scope=row>NVVar4</th><td> 1.4654279</td></tr>\n",
       "\t<tr><th scope=row>OrdCat</th><td> 1.3593962</td></tr>\n",
       "\t<tr><th scope=row>Submodel.2</th><td>10.4478484</td></tr>\n",
       "\t<tr><th scope=row>Var1</th><td> 7.2706641</td></tr>\n",
       "\t<tr><th scope=row>Var2</th><td> 9.4772992</td></tr>\n",
       "\t<tr><th scope=row>Var3</th><td> 7.8382542</td></tr>\n",
       "\t<tr><th scope=row>Var4</th><td> 7.9358894</td></tr>\n",
       "\t<tr><th scope=row>Var5</th><td> 9.4271759</td></tr>\n",
       "\t<tr><th scope=row>Var6</th><td>12.1545130</td></tr>\n",
       "\t<tr><th scope=row>Var7</th><td> 7.4990368</td></tr>\n",
       "\t<tr><th scope=row>Var8</th><td>14.3541142</td></tr>\n",
       "\t<tr><th scope=row>Vehicle</th><td> 5.8389693</td></tr>\n",
       "</tbody>\n",
       "</table>\n"
      ],
      "text/latex": [
       "\\begin{tabular}{r|l}\n",
       "  & Overall\\\\\n",
       "\\hline\n",
       "\tAge &  9.6398397\\\\\n",
       "\tBlind.M2 &  6.9000736\\\\\n",
       "\tCalendar\\_Year &  3.9304900\\\\\n",
       "\tCat1.2 &  4.6430597\\\\\n",
       "\tCat10.2 &  4.8329268\\\\\n",
       "\tCat11.2 &  8.6845945\\\\\n",
       "\tCat12.2 & 12.7098546\\\\\n",
       "\tCat2.2 &  2.8084233\\\\\n",
       "\tCat3.2 &  0.7339763\\\\\n",
       "\tCat6.2 &  1.5786774\\\\\n",
       "\tCat8.2 &  1.1926128\\\\\n",
       "\tCat9 &  0.8564150\\\\\n",
       "\tHousehold\\_ID & 29.3908152\\\\\n",
       "\tModel\\_Year &  8.7487045\\\\\n",
       "\tNVCat.2 & 11.2759871\\\\\n",
       "\tNVVar1 &  1.6571443\\\\\n",
       "\tNVVar2 &  1.9805075\\\\\n",
       "\tNVVar3 &  1.2704151\\\\\n",
       "\tNVVar4 &  1.4654279\\\\\n",
       "\tOrdCat &  1.3593962\\\\\n",
       "\tSubmodel.2 & 10.4478484\\\\\n",
       "\tVar1 &  7.2706641\\\\\n",
       "\tVar2 &  9.4772992\\\\\n",
       "\tVar3 &  7.8382542\\\\\n",
       "\tVar4 &  7.9358894\\\\\n",
       "\tVar5 &  9.4271759\\\\\n",
       "\tVar6 & 12.1545130\\\\\n",
       "\tVar7 &  7.4990368\\\\\n",
       "\tVar8 & 14.3541142\\\\\n",
       "\tVehicle &  5.8389693\\\\\n",
       "\\end{tabular}\n"
      ],
      "text/plain": [
       "              Overall   \n",
       "Age            9.6398397\n",
       "Blind.M2       6.9000736\n",
       "Calendar_Year  3.9304900\n",
       "Cat1.2         4.6430597\n",
       "Cat10.2        4.8329268\n",
       "Cat11.2        8.6845945\n",
       "Cat12.2       12.7098546\n",
       "Cat2.2         2.8084233\n",
       "Cat3.2         0.7339763\n",
       "Cat6.2         1.5786774\n",
       "Cat8.2         1.1926128\n",
       "Cat9           0.8564150\n",
       "Household_ID  29.3908152\n",
       "Model_Year     8.7487045\n",
       "NVCat.2       11.2759871\n",
       "NVVar1         1.6571443\n",
       "NVVar2         1.9805075\n",
       "NVVar3         1.2704151\n",
       "NVVar4         1.4654279\n",
       "OrdCat         1.3593962\n",
       "Submodel.2    10.4478484\n",
       "Var1           7.2706641\n",
       "Var2           9.4772992\n",
       "Var3           7.8382542\n",
       "Var4           7.9358894\n",
       "Var5           9.4271759\n",
       "Var6          12.1545130\n",
       "Var7           7.4990368\n",
       "Var8          14.3541142\n",
       "Vehicle        5.8389693"
      ]
     },
     "metadata": {},
     "output_type": "display_data"
    }
   ],
   "source": [
    "##############################################################################################\n",
    "##############################################################################################\n",
    "########################### NAPOVED CILJNE SPREMENLJIVKE ######################################\n",
    "# Za napovedovanje ciljne spremenljivke vzamemo samo spremenljivke, katere je drevo določilo,\n",
    "# da so pomembne. \n",
    "tree2 <- rpart(data$Claim_Amount~., data = data, control =rpart.control(cp = -1))\n",
    "varImp(tree2)"
   ]
  },
  {
   "cell_type": "code",
   "execution_count": 35,
   "metadata": {
    "collapsed": true
   },
   "outputs": [],
   "source": [
    "# Najprej razdelimo množico na učno in testno. Za merjenje napake smo izbrali zanjkanje oziroma vzorčenje.\n",
    "t <-createDataPartition(data$Claim_Amount, p=0.6, list=FALSE)\n",
    "trainData <- data[t,]\n",
    "testData <-  data[-t,]\n",
    "trainCtrl <- trainControl(method='boot', number=10, savePredictions=TRUE)\n",
    "m1 <- train(Claim_Amount ~ Household_ID + Var8 + Cat12.2 + Var6 +\n",
    "            + NVCat.2 + Submodel.2 + Age, data= trainData, method='rf',\n",
    "            trControl=trainCtrl, importance=T)\n",
    "m1$results\n",
    "varImp(m1$results)"
   ]
  },
  {
   "cell_type": "code",
   "execution_count": null,
   "metadata": {
    "collapsed": true
   },
   "outputs": [],
   "source": [
    "#################### ROC KRIVULJA IN AUC PLOŠČINA ################################\n",
    "roc1 <- roc(testData$Claim_Amount, predict(m1, testData))\n",
    "auc1 <- roc1$auc # 0.6427\n",
    "plot(roc1, col='red')"
   ]
  }
 ],
 "metadata": {
  "anaconda-cloud": {},
  "kernelspec": {
   "display_name": "R 3.3",
   "language": "R",
   "name": "ir33"
  },
  "language_info": {
   "codemirror_mode": "r",
   "file_extension": ".r",
   "mimetype": "text/x-r-source",
   "name": "R",
   "pygments_lexer": "r",
   "version": "3.3.1"
  }
 },
 "nbformat": 4,
 "nbformat_minor": 1
}
